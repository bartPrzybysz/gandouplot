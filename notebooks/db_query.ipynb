{
 "nbformat": 4,
 "nbformat_minor": 2,
 "metadata": {
  "language_info": {
   "name": "python",
   "codemirror_mode": {
    "name": "ipython",
    "version": 3
   }
  },
  "orig_nbformat": 2,
  "file_extension": ".py",
  "mimetype": "text/x-python",
  "name": "python",
  "npconvert_exporter": "python",
  "pygments_lexer": "ipython3",
  "version": 3
 },
 "cells": [
  {
   "cell_type": "code",
   "execution_count": 1,
   "metadata": {},
   "outputs": [],
   "source": [
    "import pandas as pd \n",
    "from sqlalchemy import create_engine"
   ]
  },
  {
   "cell_type": "code",
   "execution_count": 2,
   "metadata": {},
   "outputs": [],
   "source": [
    "engine = create_engine('mysql+mysqlconnector://{user}:{password}@{host}/{database}'.\n",
    "    format(user='', \n",
    "           password='', \n",
    "           host='', \n",
    "           database=''))"
   ]
  },
  {
   "cell_type": "code",
   "execution_count": 5,
   "metadata": {},
   "outputs": [],
   "source": [
    "sql = '''\n",
    "SELECT visit.PatientID, CONCAT(id.GivenName, ' ', id.FamilyName) as Name, id.Gender, id.Birthdate, \n",
    "       visit.Weight, visit.Length, visit.HeadCirc, visit.VisitDate\n",
    "FROM visit\n",
    "LEFT JOIN id ON visit.PatientID = id.IDnumber\n",
    "WHERE visit.PatientID={}\n",
    "'''.strip()\n",
    "\n",
    "patient_id = 1234\n",
    "\n",
    "data_df = pd.read_sql_query(sql.format(patient_id), engine)\n",
    "\n",
    "# Get age in days\n",
    "data_df['Age'] = (data_df.VisitDate - data_df.Birthdate)\n",
    "\n",
    "# Approximate age in months\n",
    "data_df.Age = data_df.Age.dt.days / 30\n",
    "\n",
    "data_df.head()"
   ]
  },
  {
   "cell_type": "code",
   "execution_count": null,
   "metadata": {},
   "outputs": [],
   "source": []
  }
 ]
}